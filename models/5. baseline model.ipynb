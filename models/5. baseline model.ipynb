{
 "cells": [
  {
   "cell_type": "code",
   "execution_count": 1,
   "metadata": {},
   "outputs": [],
   "source": [
    "from lightgbm import LGBMRegressor\n",
    "import pandas as pd\n",
    "import numpy as np"
   ]
  },
  {
   "cell_type": "code",
   "execution_count": 2,
   "metadata": {},
   "outputs": [],
   "source": [
    "train_df = pd.read_parquet(\"data/train_df.parquet\")"
   ]
  },
  {
   "cell_type": "code",
   "execution_count": 3,
   "metadata": {
    "scrolled": true
   },
   "outputs": [
    {
     "data": {
      "text/html": [
       "<div>\n",
       "<style scoped>\n",
       "    .dataframe tbody tr th:only-of-type {\n",
       "        vertical-align: middle;\n",
       "    }\n",
       "\n",
       "    .dataframe tbody tr th {\n",
       "        vertical-align: top;\n",
       "    }\n",
       "\n",
       "    .dataframe thead th {\n",
       "        text-align: right;\n",
       "    }\n",
       "</style>\n",
       "<table border=\"1\" class=\"dataframe\">\n",
       "  <thead>\n",
       "    <tr style=\"text-align: right;\">\n",
       "      <th></th>\n",
       "      <th>day</th>\n",
       "      <th>zid</th>\n",
       "      <th>customers_cnt_total</th>\n",
       "      <th>customers_cnt_long</th>\n",
       "      <th>customers_cnt_work</th>\n",
       "      <th>customers_cnt_loc</th>\n",
       "      <th>month</th>\n",
       "      <th>target</th>\n",
       "      <th>neighbors_list</th>\n",
       "    </tr>\n",
       "  </thead>\n",
       "  <tbody>\n",
       "    <tr>\n",
       "      <th>0</th>\n",
       "      <td>4</td>\n",
       "      <td>4176</td>\n",
       "      <td>3776.354167</td>\n",
       "      <td>3097.958333</td>\n",
       "      <td>984.104167</td>\n",
       "      <td>1819.666667</td>\n",
       "      <td>4</td>\n",
       "      <td>1</td>\n",
       "      <td>[122071, 61371, 174319, 178073, 63606, 49204, ...</td>\n",
       "    </tr>\n",
       "    <tr>\n",
       "      <th>1</th>\n",
       "      <td>4</td>\n",
       "      <td>8814</td>\n",
       "      <td>2596.645833</td>\n",
       "      <td>2117.208333</td>\n",
       "      <td>391.479167</td>\n",
       "      <td>1808.729167</td>\n",
       "      <td>4</td>\n",
       "      <td>1</td>\n",
       "      <td>[76984, 177459, 44588, 162228, 138843, 142788,...</td>\n",
       "    </tr>\n",
       "    <tr>\n",
       "      <th>2</th>\n",
       "      <td>4</td>\n",
       "      <td>21765</td>\n",
       "      <td>4634.666667</td>\n",
       "      <td>4083.354167</td>\n",
       "      <td>541.250000</td>\n",
       "      <td>3745.520833</td>\n",
       "      <td>4</td>\n",
       "      <td>1</td>\n",
       "      <td>[185718, 1535, 14551, 166886, 152565, 132135, ...</td>\n",
       "    </tr>\n",
       "    <tr>\n",
       "      <th>3</th>\n",
       "      <td>4</td>\n",
       "      <td>37096</td>\n",
       "      <td>4526.750000</td>\n",
       "      <td>3748.625000</td>\n",
       "      <td>877.312500</td>\n",
       "      <td>3092.604167</td>\n",
       "      <td>4</td>\n",
       "      <td>1</td>\n",
       "      <td>[149871, 4924, 92127, 143668, 111069, 31677, 6...</td>\n",
       "    </tr>\n",
       "    <tr>\n",
       "      <th>4</th>\n",
       "      <td>4</td>\n",
       "      <td>43184</td>\n",
       "      <td>4035.375000</td>\n",
       "      <td>3357.541667</td>\n",
       "      <td>484.312500</td>\n",
       "      <td>2857.208333</td>\n",
       "      <td>4</td>\n",
       "      <td>1</td>\n",
       "      <td>[140346, 38681, 97522, 44971, 92672, 8328, 648...</td>\n",
       "    </tr>\n",
       "    <tr>\n",
       "      <th>...</th>\n",
       "      <td>...</td>\n",
       "      <td>...</td>\n",
       "      <td>...</td>\n",
       "      <td>...</td>\n",
       "      <td>...</td>\n",
       "      <td>...</td>\n",
       "      <td>...</td>\n",
       "      <td>...</td>\n",
       "      <td>...</td>\n",
       "    </tr>\n",
       "    <tr>\n",
       "      <th>21776</th>\n",
       "      <td>30</td>\n",
       "      <td>189604</td>\n",
       "      <td>4964.250000</td>\n",
       "      <td>3929.166667</td>\n",
       "      <td>782.479167</td>\n",
       "      <td>2980.000000</td>\n",
       "      <td>4</td>\n",
       "      <td>1</td>\n",
       "      <td>[180175, 3450, 184227, 21825, 42074, 149187, 1...</td>\n",
       "    </tr>\n",
       "    <tr>\n",
       "      <th>21777</th>\n",
       "      <td>30</td>\n",
       "      <td>189645</td>\n",
       "      <td>2720.937500</td>\n",
       "      <td>2394.958333</td>\n",
       "      <td>234.979167</td>\n",
       "      <td>2203.104167</td>\n",
       "      <td>4</td>\n",
       "      <td>1</td>\n",
       "      <td>[6851, 12379, 126550, 112373, 68262, 126101, 8...</td>\n",
       "    </tr>\n",
       "    <tr>\n",
       "      <th>21778</th>\n",
       "      <td>30</td>\n",
       "      <td>189974</td>\n",
       "      <td>2651.062500</td>\n",
       "      <td>2197.833333</td>\n",
       "      <td>340.479167</td>\n",
       "      <td>2146.125000</td>\n",
       "      <td>4</td>\n",
       "      <td>3</td>\n",
       "      <td>[92377, 9970, 160396, 52584, 174906, 11987, 17...</td>\n",
       "    </tr>\n",
       "    <tr>\n",
       "      <th>21779</th>\n",
       "      <td>30</td>\n",
       "      <td>190081</td>\n",
       "      <td>3016.354167</td>\n",
       "      <td>2577.500000</td>\n",
       "      <td>311.229167</td>\n",
       "      <td>2395.750000</td>\n",
       "      <td>4</td>\n",
       "      <td>1</td>\n",
       "      <td>[122937, 159545, 123160, 57990, 38561, 16979, ...</td>\n",
       "    </tr>\n",
       "    <tr>\n",
       "      <th>21780</th>\n",
       "      <td>30</td>\n",
       "      <td>190124</td>\n",
       "      <td>2513.041667</td>\n",
       "      <td>2235.312500</td>\n",
       "      <td>308.145833</td>\n",
       "      <td>1832.479167</td>\n",
       "      <td>4</td>\n",
       "      <td>5</td>\n",
       "      <td>[7263, 121267, 84776, 154432, 44321, 71330, 15...</td>\n",
       "    </tr>\n",
       "  </tbody>\n",
       "</table>\n",
       "<p>21781 rows × 9 columns</p>\n",
       "</div>"
      ],
      "text/plain": [
       "       day     zid  customers_cnt_total  customers_cnt_long  \\\n",
       "0        4    4176          3776.354167         3097.958333   \n",
       "1        4    8814          2596.645833         2117.208333   \n",
       "2        4   21765          4634.666667         4083.354167   \n",
       "3        4   37096          4526.750000         3748.625000   \n",
       "4        4   43184          4035.375000         3357.541667   \n",
       "...    ...     ...                  ...                 ...   \n",
       "21776   30  189604          4964.250000         3929.166667   \n",
       "21777   30  189645          2720.937500         2394.958333   \n",
       "21778   30  189974          2651.062500         2197.833333   \n",
       "21779   30  190081          3016.354167         2577.500000   \n",
       "21780   30  190124          2513.041667         2235.312500   \n",
       "\n",
       "       customers_cnt_work  customers_cnt_loc  month  target  \\\n",
       "0              984.104167        1819.666667      4       1   \n",
       "1              391.479167        1808.729167      4       1   \n",
       "2              541.250000        3745.520833      4       1   \n",
       "3              877.312500        3092.604167      4       1   \n",
       "4              484.312500        2857.208333      4       1   \n",
       "...                   ...                ...    ...     ...   \n",
       "21776          782.479167        2980.000000      4       1   \n",
       "21777          234.979167        2203.104167      4       1   \n",
       "21778          340.479167        2146.125000      4       3   \n",
       "21779          311.229167        2395.750000      4       1   \n",
       "21780          308.145833        1832.479167      4       5   \n",
       "\n",
       "                                          neighbors_list  \n",
       "0      [122071, 61371, 174319, 178073, 63606, 49204, ...  \n",
       "1      [76984, 177459, 44588, 162228, 138843, 142788,...  \n",
       "2      [185718, 1535, 14551, 166886, 152565, 132135, ...  \n",
       "3      [149871, 4924, 92127, 143668, 111069, 31677, 6...  \n",
       "4      [140346, 38681, 97522, 44971, 92672, 8328, 648...  \n",
       "...                                                  ...  \n",
       "21776  [180175, 3450, 184227, 21825, 42074, 149187, 1...  \n",
       "21777  [6851, 12379, 126550, 112373, 68262, 126101, 8...  \n",
       "21778  [92377, 9970, 160396, 52584, 174906, 11987, 17...  \n",
       "21779  [122937, 159545, 123160, 57990, 38561, 16979, ...  \n",
       "21780  [7263, 121267, 84776, 154432, 44321, 71330, 15...  \n",
       "\n",
       "[21781 rows x 9 columns]"
      ]
     },
     "execution_count": 3,
     "metadata": {},
     "output_type": "execute_result"
    }
   ],
   "source": [
    "train_df"
   ]
  },
  {
   "cell_type": "code",
   "execution_count": 4,
   "metadata": {},
   "outputs": [],
   "source": [
    "train_df = train_df.drop(train_df.loc[train_df.target > 10].index, axis=0)"
   ]
  },
  {
   "cell_type": "code",
   "execution_count": 5,
   "metadata": {},
   "outputs": [],
   "source": [
    "features = ['customers_cnt_total', 'customers_cnt_long', 'customers_cnt_work', 'customers_cnt_loc']"
   ]
  },
  {
   "cell_type": "code",
   "execution_count": 6,
   "metadata": {},
   "outputs": [],
   "source": [
    "for feat in features:\n",
    "    train_df[feat + '_shifted1'] = train_df[['zid', feat]].groupby('zid').shift()\n",
    "    train_df[feat + '_shifted2'] = train_df[['zid', feat]].groupby('zid').shift(2)\n",
    "    train_df[feat + '_shifted3'] = train_df[['zid', feat]].groupby('zid').shift(3)"
   ]
  },
  {
   "cell_type": "code",
   "execution_count": 7,
   "metadata": {},
   "outputs": [],
   "source": [
    "train_df['target_shifted1'] = train_df[['zid', 'target']].groupby('zid').shift()\n",
    "train_df['target_shifted2'] = train_df[['zid', 'target']].groupby('zid').shift(2)\n",
    "train_df['target_shifted3'] = train_df[['zid', 'target']].groupby('zid').shift(3)"
   ]
  },
  {
   "cell_type": "code",
   "execution_count": 8,
   "metadata": {},
   "outputs": [],
   "source": [
    "shifted_features = [x for x in train_df.columns if 'shifted' in x]"
   ]
  },
  {
   "cell_type": "code",
   "execution_count": 9,
   "metadata": {},
   "outputs": [],
   "source": [
    "train_df = train_df.fillna(0)"
   ]
  },
  {
   "cell_type": "code",
   "execution_count": 10,
   "metadata": {},
   "outputs": [
    {
     "data": {
      "text/plain": [
       "array([122071,  61371, 174319, 178073,  63606,  49204,  14134,  91947])"
      ]
     },
     "execution_count": 10,
     "metadata": {},
     "output_type": "execute_result"
    }
   ],
   "source": [
    "train_df['neighbors_list'][0]"
   ]
  },
  {
   "cell_type": "code",
   "execution_count": 11,
   "metadata": {},
   "outputs": [],
   "source": [
    "X = train_df[['day'] + shifted_features + ['target']]"
   ]
  },
  {
   "cell_type": "code",
   "execution_count": 12,
   "metadata": {},
   "outputs": [],
   "source": [
    "X_train = X.loc[X.day < 25]\n",
    "X_test = X.loc[X.day >= 25]"
   ]
  },
  {
   "cell_type": "code",
   "execution_count": 13,
   "metadata": {},
   "outputs": [],
   "source": [
    "estimator = LGBMRegressor()"
   ]
  },
  {
   "cell_type": "code",
   "execution_count": 14,
   "metadata": {
    "scrolled": true
   },
   "outputs": [
    {
     "data": {
      "text/plain": [
       "['customers_cnt_total_shifted1',\n",
       " 'customers_cnt_total_shifted2',\n",
       " 'customers_cnt_total_shifted3',\n",
       " 'customers_cnt_long_shifted1',\n",
       " 'customers_cnt_long_shifted2',\n",
       " 'customers_cnt_long_shifted3',\n",
       " 'customers_cnt_work_shifted1',\n",
       " 'customers_cnt_work_shifted2',\n",
       " 'customers_cnt_work_shifted3',\n",
       " 'customers_cnt_loc_shifted1',\n",
       " 'customers_cnt_loc_shifted2',\n",
       " 'customers_cnt_loc_shifted3',\n",
       " 'target_shifted1',\n",
       " 'target_shifted2',\n",
       " 'target_shifted3']"
      ]
     },
     "execution_count": 14,
     "metadata": {},
     "output_type": "execute_result"
    }
   ],
   "source": [
    "shifted_features"
   ]
  },
  {
   "cell_type": "code",
   "execution_count": 15,
   "metadata": {
    "scrolled": true
   },
   "outputs": [
    {
     "data": {
      "text/plain": [
       "LGBMRegressor(boosting_type='gbdt', class_weight=None, colsample_bytree=1.0,\n",
       "              importance_type='split', learning_rate=0.1, max_depth=-1,\n",
       "              min_child_samples=20, min_child_weight=0.001, min_split_gain=0.0,\n",
       "              n_estimators=100, n_jobs=-1, num_leaves=31, objective=None,\n",
       "              random_state=None, reg_alpha=0.0, reg_lambda=0.0, silent=True,\n",
       "              subsample=1.0, subsample_for_bin=200000, subsample_freq=0)"
      ]
     },
     "execution_count": 15,
     "metadata": {},
     "output_type": "execute_result"
    }
   ],
   "source": [
    "estimator.fit(X_train[shifted_features].transform(np.log), np.log(X_train['target']))"
   ]
  },
  {
   "cell_type": "code",
   "execution_count": 16,
   "metadata": {},
   "outputs": [],
   "source": [
    "pred_train = estimator.predict(X_train[shifted_features].transform(np.log))\n",
    "pred_test = estimator.predict(X_test[shifted_features].transform(np.log))"
   ]
  },
  {
   "cell_type": "code",
   "execution_count": 17,
   "metadata": {},
   "outputs": [],
   "source": [
    "from sklearn.metrics import mean_squared_error, mean_absolute_error"
   ]
  },
  {
   "cell_type": "code",
   "execution_count": 18,
   "metadata": {},
   "outputs": [
    {
     "name": "stdout",
     "output_type": "stream",
     "text": [
      "MAE TRAIN:0.4655397477710169\n",
      "MAE TEST:0.6994219878989238\n",
      "MSE TRAIN:0.5738174054484267\n",
      "MSE TEST:1.120441018677441\n"
     ]
    }
   ],
   "source": [
    "print(f\"MAE TRAIN:{mean_absolute_error(X_train['target'], np.exp(pred_train))}\")\n",
    "print(f\"MAE TEST:{mean_absolute_error(X_test['target'], np.exp(pred_test))}\")\n",
    "print(f\"MSE TRAIN:{mean_squared_error(X_train['target'], np.exp(pred_train))}\")\n",
    "print(f\"MSE TEST:{mean_squared_error(X_test['target'], np.exp(pred_test))}\")"
   ]
  },
  {
   "cell_type": "code",
   "execution_count": 19,
   "metadata": {
    "scrolled": true
   },
   "outputs": [
    {
     "name": "stderr",
     "output_type": "stream",
     "text": [
      "/home/pburtovoy/.conda/envs/hackaton/lib/python3.7/site-packages/ipykernel_launcher.py:1: SettingWithCopyWarning: \n",
      "A value is trying to be set on a copy of a slice from a DataFrame.\n",
      "Try using .loc[row_indexer,col_indexer] = value instead\n",
      "\n",
      "See the caveats in the documentation: https://pandas.pydata.org/pandas-docs/stable/user_guide/indexing.html#returning-a-view-versus-a-copy\n",
      "  \"\"\"Entry point for launching an IPython kernel.\n",
      "/home/pburtovoy/.conda/envs/hackaton/lib/python3.7/site-packages/ipykernel_launcher.py:2: SettingWithCopyWarning: \n",
      "A value is trying to be set on a copy of a slice from a DataFrame.\n",
      "Try using .loc[row_indexer,col_indexer] = value instead\n",
      "\n",
      "See the caveats in the documentation: https://pandas.pydata.org/pandas-docs/stable/user_guide/indexing.html#returning-a-view-versus-a-copy\n",
      "  \n"
     ]
    }
   ],
   "source": [
    "X_train['preds'] = np.exp(pred_train)\n",
    "X_test['preds'] = np.exp(pred_test)"
   ]
  },
  {
   "cell_type": "code",
   "execution_count": 20,
   "metadata": {},
   "outputs": [
    {
     "data": {
      "text/html": [
       "<div>\n",
       "<style scoped>\n",
       "    .dataframe tbody tr th:only-of-type {\n",
       "        vertical-align: middle;\n",
       "    }\n",
       "\n",
       "    .dataframe tbody tr th {\n",
       "        vertical-align: top;\n",
       "    }\n",
       "\n",
       "    .dataframe thead th {\n",
       "        text-align: right;\n",
       "    }\n",
       "</style>\n",
       "<table border=\"1\" class=\"dataframe\">\n",
       "  <thead>\n",
       "    <tr style=\"text-align: right;\">\n",
       "      <th></th>\n",
       "      <th>target</th>\n",
       "      <th>preds</th>\n",
       "    </tr>\n",
       "  </thead>\n",
       "  <tbody>\n",
       "    <tr>\n",
       "      <th>0</th>\n",
       "      <td>1</td>\n",
       "      <td>1.120041</td>\n",
       "    </tr>\n",
       "    <tr>\n",
       "      <th>1</th>\n",
       "      <td>1</td>\n",
       "      <td>1.120041</td>\n",
       "    </tr>\n",
       "    <tr>\n",
       "      <th>2</th>\n",
       "      <td>1</td>\n",
       "      <td>1.120041</td>\n",
       "    </tr>\n",
       "    <tr>\n",
       "      <th>3</th>\n",
       "      <td>1</td>\n",
       "      <td>1.120041</td>\n",
       "    </tr>\n",
       "    <tr>\n",
       "      <th>4</th>\n",
       "      <td>1</td>\n",
       "      <td>1.120041</td>\n",
       "    </tr>\n",
       "    <tr>\n",
       "      <th>...</th>\n",
       "      <td>...</td>\n",
       "      <td>...</td>\n",
       "    </tr>\n",
       "    <tr>\n",
       "      <th>13104</th>\n",
       "      <td>3</td>\n",
       "      <td>1.569148</td>\n",
       "    </tr>\n",
       "    <tr>\n",
       "      <th>13105</th>\n",
       "      <td>1</td>\n",
       "      <td>1.120041</td>\n",
       "    </tr>\n",
       "    <tr>\n",
       "      <th>13106</th>\n",
       "      <td>2</td>\n",
       "      <td>1.406358</td>\n",
       "    </tr>\n",
       "    <tr>\n",
       "      <th>13107</th>\n",
       "      <td>1</td>\n",
       "      <td>1.322865</td>\n",
       "    </tr>\n",
       "    <tr>\n",
       "      <th>13108</th>\n",
       "      <td>3</td>\n",
       "      <td>1.916905</td>\n",
       "    </tr>\n",
       "  </tbody>\n",
       "</table>\n",
       "<p>13096 rows × 2 columns</p>\n",
       "</div>"
      ],
      "text/plain": [
       "       target     preds\n",
       "0           1  1.120041\n",
       "1           1  1.120041\n",
       "2           1  1.120041\n",
       "3           1  1.120041\n",
       "4           1  1.120041\n",
       "...       ...       ...\n",
       "13104       3  1.569148\n",
       "13105       1  1.120041\n",
       "13106       2  1.406358\n",
       "13107       1  1.322865\n",
       "13108       3  1.916905\n",
       "\n",
       "[13096 rows x 2 columns]"
      ]
     },
     "execution_count": 20,
     "metadata": {},
     "output_type": "execute_result"
    }
   ],
   "source": [
    "X_train[['target', 'preds']]"
   ]
  },
  {
   "cell_type": "code",
   "execution_count": 21,
   "metadata": {},
   "outputs": [],
   "source": [
    "from matplotlib import pyplot as plt\n",
    "error = X_train['target'] -  X_train['preds']"
   ]
  },
  {
   "cell_type": "code",
   "execution_count": 22,
   "metadata": {},
   "outputs": [
    {
     "data": {
      "text/plain": [
       "Text(0.5, 1.0, 'Error')"
      ]
     },
     "execution_count": 22,
     "metadata": {},
     "output_type": "execute_result"
    },
    {
     "data": {
      "image/png": "[encoded data removed]",
      "text/plain": [
       "<Figure size 432x288 with 1 Axes>"
      ]
     },
     "metadata": {
      "needs_background": "light"
     },
     "output_type": "display_data"
    }
   ],
   "source": [
    "plt.scatter(np.arange(len(error)), error)\n",
    "plt.title(\"Error\")"
   ]
  },
  {
   "cell_type": "code",
   "execution_count": 23,
   "metadata": {
    "scrolled": true
   },
   "outputs": [
    {
     "data": {
      "text/plain": [
       "Text(0.5, 1.0, 'Prediction Distribution')"
      ]
     },
     "execution_count": 23,
     "metadata": {},
     "output_type": "execute_result"
    },
    {
     "data": {
      "image/png": "[encoded data removed]",
      "text/plain": [
       "<Figure size 432x288 with 1 Axes>"
      ]
     },
     "metadata": {
      "needs_background": "light"
     },
     "output_type": "display_data"
    }
   ],
   "source": [
    "X_train.preds.hist()\n",
    "plt.title(\"Prediction Distribution\")"
   ]
  },
  {
   "cell_type": "code",
   "execution_count": 24,
   "metadata": {
    "scrolled": true
   },
   "outputs": [
    {
     "data": {
      "text/plain": [
       "Text(0.5, 1.0, 'Target Distribution')"
      ]
     },
     "execution_count": 24,
     "metadata": {},
     "output_type": "execute_result"
    },
    {
     "data": {
      "image/png": "[encoded data removed]",
      "text/plain": [
       "<Figure size 432x288 with 1 Axes>"
      ]
     },
     "metadata": {
      "needs_background": "light"
     },
     "output_type": "display_data"
    }
   ],
   "source": [
    "X_train.target.hist()\n",
    "plt.xlim((0, 10))\n",
    "plt.title(\"Target Distribution\")"
   ]
  },
  {
   "cell_type": "markdown",
   "metadata": {},
   "source": [
    "# Neighbors features"
   ]
  },
  {
   "cell_type": "code",
   "execution_count": 35,
   "metadata": {},
   "outputs": [],
   "source": [
    "train_df['id_day'] = train_df['zid'].astype(str) + \"_\" + train_df['day'].astype(str)"
   ]
  },
  {
   "cell_type": "code",
   "execution_count": 39,
   "metadata": {},
   "outputs": [],
   "source": [
    "train_df['n_neighbors'] = train_df.neighbors_list.apply(len)"
   ]
  },
  {
   "cell_type": "code",
   "execution_count": 41,
   "metadata": {},
   "outputs": [],
   "source": [
    "drop_row = train_df.loc[train_df.n_neighbors == 6].index"
   ]
  },
  {
   "cell_type": "code",
   "execution_count": 42,
   "metadata": {},
   "outputs": [],
   "source": [
    "train_df.drop(drop_row, axis=0, inplace=True)"
   ]
  },
  {
   "cell_type": "code",
   "execution_count": 43,
   "metadata": {},
   "outputs": [],
   "source": [
    "for k in range(8):\n",
    "    train_df['neighbor_'+str(k)] = [i[k] for i in train_df['neighbors_list']]\n",
    "    train_df['neighbor_'+str(k)] = train_df['neighbor_'+str(k)].astype(str) + \"_\" + (train_df['day'].astype(int) - 1).astype(str)"
   ]
  },
  {
   "cell_type": "code",
   "execution_count": 44,
   "metadata": {},
   "outputs": [],
   "source": [
    "def make_features(train_df, feature):\n",
    "    gen_features = []\n",
    "    for i in range(8):\n",
    "        temp_df = train_df[[feature]].copy()\n",
    "        temp_df['id'] = train_df['id_day'].copy()\n",
    "        gen_features.append(feature+'_neighbor_'+str(i))\n",
    "        train_df[feature+'_neighbor_'+str(i)] = train_df.merge(temp_df, how='left', left_on='neighbor_'+str(i), right_on='id')[feature+\"_y\"]\n",
    "        train_df.fillna(0, inplace=True)\n",
    "    train_df[feature+\"_sum\"] = train_df[gen_features].sum(axis=1)\n",
    "    train_df[feature+\"_mean\"] = train_df[gen_features].mean(axis=1)\n",
    "    train_df[feature+\"_var\"] = train_df[gen_features].var(axis=1)\n",
    "    train_df.drop(gen_features, axis=1,inplace=True)\n",
    "    return(train_df)"
   ]
  },
  {
   "cell_type": "code",
   "execution_count": 45,
   "metadata": {},
   "outputs": [],
   "source": [
    "for feat in shifted_features:\n",
    "    train_df = make_features(train_df, feat)"
   ]
  },
  {
   "cell_type": "code",
   "execution_count": 47,
   "metadata": {},
   "outputs": [
    {
     "data": {
      "text/plain": [
       "Index(['day', 'zid', 'customers_cnt_total', 'customers_cnt_long',\n",
       "       'customers_cnt_work', 'customers_cnt_loc', 'month', 'target',\n",
       "       'neighbors_list', 'customers_cnt_total_shifted1',\n",
       "       'customers_cnt_total_shifted2', 'customers_cnt_total_shifted3',\n",
       "       'customers_cnt_long_shifted1', 'customers_cnt_long_shifted2',\n",
       "       'customers_cnt_long_shifted3', 'customers_cnt_work_shifted1',\n",
       "       'customers_cnt_work_shifted2', 'customers_cnt_work_shifted3',\n",
       "       'customers_cnt_loc_shifted1', 'customers_cnt_loc_shifted2',\n",
       "       'customers_cnt_loc_shifted3', 'target_shifted1', 'target_shifted2',\n",
       "       'target_shifted3', 'id_day', 'n_neighbors', 'neighbor_0', 'neighbor_1',\n",
       "       'neighbor_2', 'neighbor_3', 'neighbor_4', 'neighbor_5', 'neighbor_6',\n",
       "       'neighbor_7', 'customers_cnt_total_shifted1_sum',\n",
       "       'customers_cnt_total_shifted1_mean', 'customers_cnt_total_shifted1_var',\n",
       "       'customers_cnt_total_shifted2_sum', 'customers_cnt_total_shifted2_mean',\n",
       "       'customers_cnt_total_shifted2_var', 'customers_cnt_total_shifted3_sum',\n",
       "       'customers_cnt_total_shifted3_mean', 'customers_cnt_total_shifted3_var',\n",
       "       'customers_cnt_long_shifted1_sum', 'customers_cnt_long_shifted1_mean',\n",
       "       'customers_cnt_long_shifted1_var', 'customers_cnt_long_shifted2_sum',\n",
       "       'customers_cnt_long_shifted2_mean', 'customers_cnt_long_shifted2_var',\n",
       "       'customers_cnt_long_shifted3_sum', 'customers_cnt_long_shifted3_mean',\n",
       "       'customers_cnt_long_shifted3_var', 'customers_cnt_work_shifted1_sum',\n",
       "       'customers_cnt_work_shifted1_mean', 'customers_cnt_work_shifted1_var',\n",
       "       'customers_cnt_work_shifted2_sum', 'customers_cnt_work_shifted2_mean',\n",
       "       'customers_cnt_work_shifted2_var', 'customers_cnt_work_shifted3_sum',\n",
       "       'customers_cnt_work_shifted3_mean', 'customers_cnt_work_shifted3_var',\n",
       "       'customers_cnt_loc_shifted1_sum', 'customers_cnt_loc_shifted1_mean',\n",
       "       'customers_cnt_loc_shifted1_var', 'customers_cnt_loc_shifted2_sum',\n",
       "       'customers_cnt_loc_shifted2_mean', 'customers_cnt_loc_shifted2_var',\n",
       "       'customers_cnt_loc_shifted3_sum', 'customers_cnt_loc_shifted3_mean',\n",
       "       'customers_cnt_loc_shifted3_var', 'target_shifted1_sum',\n",
       "       'target_shifted1_mean', 'target_shifted1_var', 'target_shifted2_sum',\n",
       "       'target_shifted2_mean', 'target_shifted2_var', 'target_shifted3_sum',\n",
       "       'target_shifted3_mean', 'target_shifted3_var'],\n",
       "      dtype='object')"
      ]
     },
     "execution_count": 47,
     "metadata": {},
     "output_type": "execute_result"
    }
   ],
   "source": [
    "train_df.columns"
   ]
  },
  {
   "cell_type": "code",
   "execution_count": 48,
   "metadata": {},
   "outputs": [],
   "source": [
    "new_features = [x for x in train_df.columns if 'shifted' in x]"
   ]
  },
  {
   "cell_type": "code",
   "execution_count": 50,
   "metadata": {},
   "outputs": [],
   "source": [
    "X = train_df[['day'] + new_features + ['target']]"
   ]
  },
  {
   "cell_type": "code",
   "execution_count": 51,
   "metadata": {},
   "outputs": [],
   "source": [
    "X_train = X.loc[X.day < 25]\n",
    "X_test = X.loc[X.day >= 25]"
   ]
  },
  {
   "cell_type": "code",
   "execution_count": 168,
   "metadata": {},
   "outputs": [],
   "source": [
    "estimator = LGBMRegressor(n_estimators=1, learning_rate=0.1, colsample_bytree=0.3, max_depth=1, reg_alpha=1, reg_lambda=1)"
   ]
  },
  {
   "cell_type": "code",
   "execution_count": 169,
   "metadata": {
    "scrolled": true
   },
   "outputs": [
    {
     "data": {
      "text/plain": [
       "LGBMRegressor(boosting_type='gbdt', class_weight=None, colsample_bytree=0.3,\n",
       "              importance_type='split', learning_rate=0.1, max_depth=1,\n",
       "              min_child_samples=20, min_child_weight=0.001, min_split_gain=0.0,\n",
       "              n_estimators=1, n_jobs=-1, num_leaves=31, objective=None,\n",
       "              random_state=None, reg_alpha=1, reg_lambda=1, silent=True,\n",
       "              subsample=1.0, subsample_for_bin=200000, subsample_freq=0)"
      ]
     },
     "execution_count": 169,
     "metadata": {},
     "output_type": "execute_result"
    }
   ],
   "source": [
    "estimator.fit(X_train[new_features].transform(np.log), np.log(X_train['target']))"
   ]
  },
  {
   "cell_type": "code",
   "execution_count": 170,
   "metadata": {},
   "outputs": [],
   "source": [
    "pred_train = estimator.predict(X_train[new_features].transform(np.log))\n",
    "pred_test = estimator.predict(X_test[new_features].transform(np.log))"
   ]
  },
  {
   "cell_type": "code",
   "execution_count": 171,
   "metadata": {},
   "outputs": [],
   "source": [
    "from sklearn.metrics import mean_squared_error, mean_absolute_error"
   ]
  },
  {
   "cell_type": "code",
   "execution_count": 172,
   "metadata": {},
   "outputs": [
    {
     "name": "stdout",
     "output_type": "stream",
     "text": [
      "MAE TRAIN:0.5849458584615649\n",
      "MAE TEST:0.7379727711566644\n",
      "MSE TRAIN:0.8293784908037275\n",
      "MSE TEST:1.2981026511069882\n"
     ]
    }
   ],
   "source": [
    "print(f\"MAE TRAIN:{mean_absolute_error(X_train['target'], np.exp(pred_train))}\")\n",
    "print(f\"MAE TEST:{mean_absolute_error(X_test['target'], np.exp(pred_test))}\")\n",
    "print(f\"MSE TRAIN:{mean_squared_error(X_train['target'], np.exp(pred_train))}\")\n",
    "print(f\"MSE TEST:{mean_squared_error(X_test['target'], np.exp(pred_test))}\")"
   ]
  },
  {
   "cell_type": "code",
   "execution_count": 101,
   "metadata": {
    "scrolled": true
   },
   "outputs": [
    {
     "name": "stderr",
     "output_type": "stream",
     "text": [
      "/home/pburtovoy/.conda/envs/hackaton/lib/python3.7/site-packages/ipykernel_launcher.py:1: SettingWithCopyWarning: \n",
      "A value is trying to be set on a copy of a slice from a DataFrame.\n",
      "Try using .loc[row_indexer,col_indexer] = value instead\n",
      "\n",
      "See the caveats in the documentation: https://pandas.pydata.org/pandas-docs/stable/user_guide/indexing.html#returning-a-view-versus-a-copy\n",
      "  \"\"\"Entry point for launching an IPython kernel.\n",
      "/home/pburtovoy/.conda/envs/hackaton/lib/python3.7/site-packages/ipykernel_launcher.py:2: SettingWithCopyWarning: \n",
      "A value is trying to be set on a copy of a slice from a DataFrame.\n",
      "Try using .loc[row_indexer,col_indexer] = value instead\n",
      "\n",
      "See the caveats in the documentation: https://pandas.pydata.org/pandas-docs/stable/user_guide/indexing.html#returning-a-view-versus-a-copy\n",
      "  \n"
     ]
    }
   ],
   "source": [
    "X_train['preds'] = np.exp(pred_train)\n",
    "X_test['preds'] = np.exp(pred_test)"
   ]
  },
  {
   "cell_type": "code",
   "execution_count": 102,
   "metadata": {},
   "outputs": [],
   "source": [
    "from matplotlib import pyplot as plt\n",
    "error = X_train['target'] -  X_train['preds']"
   ]
  },
  {
   "cell_type": "code",
   "execution_count": 103,
   "metadata": {},
   "outputs": [
    {
     "data": {
      "text/plain": [
       "Text(0.5, 1.0, 'Error')"
      ]
     },
     "execution_count": 103,
     "metadata": {},
     "output_type": "execute_result"
    },
    {
     "data": {
      "image/png": "[encoded data removed]",
      "text/plain": [
       "<Figure size 432x288 with 1 Axes>"
      ]
     },
     "metadata": {
      "needs_background": "light"
     },
     "output_type": "display_data"
    }
   ],
   "source": [
    "plt.scatter(np.arange(len(error)), error)\n",
    "plt.title(\"Error\")"
   ]
  },
  {
   "cell_type": "code",
   "execution_count": 104,
   "metadata": {},
   "outputs": [
    {
     "data": {
      "text/plain": [
       "Text(0.5, 1.0, 'Prediction Distribution')"
      ]
     },
     "execution_count": 104,
     "metadata": {},
     "output_type": "execute_result"
    },
    {
     "data": {
      "image/png": "[encoded data removed]",
      "text/plain": [
       "<Figure size 432x288 with 1 Axes>"
      ]
     },
     "metadata": {
      "needs_background": "light"
     },
     "output_type": "display_data"
    }
   ],
   "source": [
    "X_train.preds.hist()\n",
    "plt.title(\"Prediction Distribution\")"
   ]
  },
  {
   "cell_type": "code",
   "execution_count": 105,
   "metadata": {},
   "outputs": [
    {
     "data": {
      "text/plain": [
       "Text(0.5, 1.0, 'Target Distribution')"
      ]
     },
     "execution_count": 105,
     "metadata": {},
     "output_type": "execute_result"
    },
    {
     "data": {
      "image/png": "[encoded data removed]",
      "text/plain": [
       "<Figure size 432x288 with 1 Axes>"
      ]
     },
     "metadata": {
      "needs_background": "light"
     },
     "output_type": "display_data"
    }
   ],
   "source": [
    "X_train.target.hist()\n",
    "plt.xlim((0, 10))\n",
    "plt.title(\"Target Distribution\")"
   ]
  },
  {
   "cell_type": "code",
   "execution_count": 109,
   "metadata": {},
   "outputs": [],
   "source": [
    "feat_imp = pd.DataFrame(index=estimator.feature_name_, data=estimator.feature_importances_, columns=['importance'])\n",
    "feat_imp = feat_imp.sort_values('importance', ascending=False)"
   ]
  },
  {
   "cell_type": "code",
   "execution_count": 110,
   "metadata": {},
   "outputs": [],
   "source": [
    "import seaborn as sns"
   ]
  },
  {
   "cell_type": "code",
   "execution_count": 175,
   "metadata": {},
   "outputs": [
    {
     "data": {
      "text/plain": [
       "<matplotlib.axes._subplots.AxesSubplot at 0x7f703d7fa1d0>"
      ]
     },
     "execution_count": 175,
     "metadata": {},
     "output_type": "execute_result"
    },
    {
     "data": {
      "image/png": "[encoded data removed]",
      "text/plain": [
       "<Figure size 864x720 with 1 Axes>"
      ]
     },
     "metadata": {
      "needs_background": "light"
     },
     "output_type": "display_data"
    }
   ],
   "source": [
    "fig = plt.figure(figsize=(12, 10))\n",
    "sns.barplot(x=feat_imp.values[:, 0], y=feat_imp.index)"
   ]
  },
  {
   "cell_type": "code",
   "execution_count": null,
   "metadata": {},
   "outputs": [],
   "source": []
  }
 ],
 "metadata": {
  "kernelspec": {
   "display_name": "Python 3",
   "language": "python",
   "name": "python3"
  },
  "language_info": {
   "codemirror_mode": {
    "name": "ipython",
    "version": 3
   },
   "file_extension": ".py",
   "mimetype": "text/x-python",
   "name": "python",
   "nbconvert_exporter": "python",
   "pygments_lexer": "ipython3",
   "version": "3.7.6"
  }
 },
 "nbformat": 4,
 "nbformat_minor": 4
}
