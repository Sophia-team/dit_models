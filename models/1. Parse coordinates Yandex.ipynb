{
 "cells": [
  {
   "cell_type": "code",
   "execution_count": null,
   "metadata": {
    "id": "6mCta1wSJ_cT"
   },
   "outputs": [],
   "source": [
    "import pandas as pd\n",
    "import requests\n",
    "import json"
   ]
  },
  {
   "cell_type": "code",
   "execution_count": null,
   "metadata": {
    "colab": {
     "base_uri": "https://localhost:8080/",
     "height": 312
    },
    "id": "Rvx79xS0Kc4g",
    "outputId": "d2824222-aa9a-40d0-cff0-b653514303d1"
   },
   "outputs": [],
   "source": [
    "data = pd.read_excel('распространение заболевания. generated.xlsx')"
   ]
  },
  {
   "cell_type": "code",
   "execution_count": null,
   "metadata": {
    "colab": {
     "base_uri": "https://localhost:8080/",
     "height": 158
    },
    "id": "o9wUFoyCKh-3",
    "outputId": "80fd6fc3-1365-452e-88aa-2639d2683f1e"
   },
   "outputs": [],
   "source": [
    "data.head()"
   ]
  },
  {
   "cell_type": "code",
   "execution_count": null,
   "metadata": {
    "id": "ZSiGQoQOMlm5"
   },
   "outputs": [],
   "source": [
    "addresses = data['address'].unique()"
   ]
  },
  {
   "cell_type": "code",
   "execution_count": null,
   "metadata": {
    "id": "GHFgZEnZLvx9"
   },
   "outputs": [],
   "source": [
    "len(addresses)"
   ]
  },
  {
   "cell_type": "code",
   "execution_count": null,
   "metadata": {
    "id": "k44h7ltiMlCB"
   },
   "outputs": [],
   "source": [
    "from google.colab import drive\n",
    "drive.mount('/content/gdrive')"
   ]
  },
  {
   "cell_type": "code",
   "execution_count": null,
   "metadata": {
    "id": "7H9NIOu3RZiA"
   },
   "outputs": [],
   "source": [
    "!mkdir '/content/gdrive/My Drive/hack'"
   ]
  },
  {
   "cell_type": "code",
   "execution_count": null,
   "metadata": {
    "id": "aVElMQYOSog6"
   },
   "outputs": [],
   "source": [
    "!ls '/content/gdrive/My Drive/hack/'"
   ]
  },
  {
   "cell_type": "code",
   "execution_count": null,
   "metadata": {
    "id": "yRyOE0vtRPDy"
   },
   "outputs": [],
   "source": [
    "import datetime"
   ]
  },
  {
   "cell_type": "code",
   "execution_count": null,
   "metadata": {
    "id": "pwNijTUURoTu"
   },
   "outputs": [],
   "source": [
    "str(datetime.datetime.now())"
   ]
  },
  {
   "cell_type": "code",
   "execution_count": null,
   "metadata": {
    "id": "h51IkaPDR4sd"
   },
   "outputs": [],
   "source": [
    "import pickle\n",
    "def save():\n",
    "  n = str(datetime.datetime.now())\n",
    "  with open('/content/gdrive/My Drive/hack/add_{0}'.format(str(datetime.datetime.now())), 'wb') as f:\n",
    "    pickle.dump(parsed_addresses, f)"
   ]
  },
  {
   "cell_type": "code",
   "execution_count": null,
   "metadata": {
    "id": "XEGUHkRFLoYZ"
   },
   "outputs": [],
   "source": [
    "ya_key=\"5d6bde18-59ed-4f05-b446-e05fae477bfa\"\n",
    "ya_url = \"https://geocode-maps.yandex.ru/1.x\""
   ]
  },
  {
   "cell_type": "code",
   "execution_count": null,
   "metadata": {
    "id": "tdUuZtq-McNt"
   },
   "outputs": [],
   "source": [
    "payload = {'apikey': ya_key , 'geocode': addresses[0], 'format':'json'}"
   ]
  },
  {
   "cell_type": "code",
   "execution_count": null,
   "metadata": {
    "id": "KS46VroNN1Xx"
   },
   "outputs": [],
   "source": [
    "parsed_addresses = list()"
   ]
  },
  {
   "cell_type": "code",
   "execution_count": null,
   "metadata": {
    "id": "S5GDf_nHLpvZ"
   },
   "outputs": [],
   "source": [
    "def process_address(address):\n",
    "  payload = {'apikey': ya_key , 'geocode': address, 'format':'json'}\n",
    "  r = requests.get(ya_url, params=payload)\n",
    "  resp_json = json.loads(r.content)\n",
    "  # pos = resp_json['response']['GeoObjectCollection']['featureMember'][0]['GeoObject']['Point']\n",
    "  return resp_json"
   ]
  },
  {
   "cell_type": "code",
   "execution_count": null,
   "metadata": {
    "id": "2X2JLhFRN-dL"
   },
   "outputs": [],
   "source": [
    "for i in range(0, len(addresses)):\n",
    "  add = addresses[i]\n",
    "  resp_j = process_address(add)\n",
    "  parsed_addresses.append([add, resp_j])\n",
    "  if i % 100 ==0:\n",
    "    print(i)\n",
    "    save()"
   ]
  },
  {
   "cell_type": "code",
   "execution_count": null,
   "metadata": {
    "id": "xkopdcqkVWd4"
   },
   "outputs": [],
   "source": [
    "import pickle\n",
    "with open('/content/add_2020-10-16 21_58_01.545829', 'rb') as f:\n",
    "     data_new = pickle.load(f)\n",
    "\n",
    "print(data_new)"
   ]
  },
  {
   "cell_type": "code",
   "execution_count": null,
   "metadata": {
    "id": "M6BEdaZF_L67"
   },
   "outputs": [],
   "source": [
    "import pickle\n",
    "with open('/content/add_2020-10-16 22_01_25.772399', 'rb') as f:\n",
    "     data_new = pickle.load(f)\n",
    "\n",
    "print(data_new)"
   ]
  },
  {
   "cell_type": "code",
   "execution_count": null,
   "metadata": {
    "id": "6qW9Ie_76dao"
   },
   "outputs": [],
   "source": [
    "import pickle\n",
    "with open('/content/add_2020-10-17 09_22_26.668521', 'rb') as f:\n",
    "     data_new = pickle.load(f)\n",
    "\n",
    "print(data_new[0])"
   ]
  },
  {
   "cell_type": "code",
   "execution_count": null,
   "metadata": {
    "id": "s9n6MJFKAJGd"
   },
   "outputs": [],
   "source": [
    "# df = pd.DataFrame(columns=['address', 'Point'])\n",
    "def parse(list_of_addr, df):\n",
    "  import json\n",
    "  errors = 0\n",
    "  for i in data_new:\n",
    "    try:\n",
    "      df2 = pd.DataFrame(columns=['address', 'Point'])\n",
    "      df2.loc[0, 'address'] = i[0]\n",
    "      df2.loc[0, 'Point'] = i[1]['response']['GeoObjectCollection']['featureMember'][0]['GeoObject']['Point']['pos']\n",
    "      df = df.append(df2, ignore_index=True)\n",
    "    except:\n",
    "      errors += 1\n",
    "      print(i)\n",
    "  print(errors)\n",
    "  return(df)\n"
   ]
  },
  {
   "cell_type": "code",
   "execution_count": null,
   "metadata": {
    "id": "jQdxrCflMebS"
   },
   "outputs": [],
   "source": [
    "\n",
    "def parse_igor(list_of_addr, df):\n",
    "  import json\n",
    "  errors = 0\n",
    "  for i in data_new:\n",
    "    try:\n",
    "      df2 = pd.DataFrame(columns=['address', 'Point'])\n",
    "      df2.loc[0, 'address'] = i[1]\n",
    "      df2.loc[0, 'Point'] = i[2]['response']['GeoObjectCollection']['featureMember'][0]['GeoObject']['Point']['pos']\n",
    "      df = df.append(df2, ignore_index=True)\n",
    "    except:\n",
    "      errors += 1\n",
    "  print(errors)\n",
    "  return(df)\n"
   ]
  },
  {
   "cell_type": "code",
   "execution_count": null,
   "metadata": {
    "colab": {
     "base_uri": "https://localhost:8080/",
     "height": 223
    },
    "id": "NTWV21hALCxR",
    "outputId": "a286aafb-49e7-4f9d-af98-7aa496226c11",
    "scrolled": true
   },
   "outputs": [],
   "source": [
    "import pickle\n",
    "with open('/content/add_2020-10-16 22_29_20.850548', 'rb') as f:\n",
    "     data_new = pickle.load(f)\n",
    "\n",
    "print(data_new[0])"
   ]
  },
  {
   "cell_type": "code",
   "execution_count": null,
   "metadata": {
    "colab": {
     "base_uri": "https://localhost:8080/",
     "height": 33
    },
    "id": "Lpl6ky3aExYP",
    "outputId": "ede2a7cd-9d46-4e7a-cc4c-ded436a28e6a"
   },
   "outputs": [],
   "source": [
    "df = parse(data_new, df)"
   ]
  },
  {
   "cell_type": "code",
   "execution_count": null,
   "metadata": {
    "colab": {
     "base_uri": "https://localhost:8080/",
     "height": 33
    },
    "id": "h3VvOxL0E5-5",
    "outputId": "3364340d-9525-4852-cb0c-3283e0c10e4c"
   },
   "outputs": [],
   "source": [
    "df.shape"
   ]
  },
  {
   "cell_type": "code",
   "execution_count": null,
   "metadata": {
    "colab": {
     "base_uri": "https://localhost:8080/",
     "height": 223
    },
    "id": "3YbALfKsJu40",
    "outputId": "b6965045-fc6b-46f9-ff26-44a78f8c0111"
   },
   "outputs": [],
   "source": [
    "import pickle\n",
    "with open('/content/add_2020-10-16 23_59_39.128655', 'rb') as f:\n",
    "     data_new = pickle.load(f)\n",
    "\n",
    "print(len(data_new))\n"
   ]
  },
  {
   "cell_type": "code",
   "execution_count": null,
   "metadata": {
    "colab": {
     "base_uri": "https://localhost:8080/",
     "height": 33
    },
    "id": "0-FYdu_XKvNv",
    "outputId": "c57939ef-06a6-490e-939e-08410fb34acb"
   },
   "outputs": [],
   "source": [
    "df = parse(data_new, df)"
   ]
  },
  {
   "cell_type": "code",
   "execution_count": null,
   "metadata": {
    "colab": {
     "base_uri": "https://localhost:8080/",
     "height": 33
    },
    "id": "qv32vOofKv5h",
    "outputId": "105a8d30-8f69-4527-9710-b5bf4c81b813"
   },
   "outputs": [],
   "source": [
    "df.shape"
   ]
  },
  {
   "cell_type": "code",
   "execution_count": null,
   "metadata": {
    "colab": {
     "base_uri": "https://localhost:8080/",
     "height": 53
    },
    "id": "Jv3HlNvxKWNU",
    "outputId": "ef400ffd-8906-4c84-e16c-0de07659a297"
   },
   "outputs": [],
   "source": [
    "\n",
    "import pickle\n",
    "with open('/content/add_2020-10-17 06_33_27.702241', 'rb') as f:\n",
    "     data_new = pickle.load(f)\n",
    "\n",
    "print(data_new[0])\n",
    "\n"
   ]
  },
  {
   "cell_type": "code",
   "execution_count": null,
   "metadata": {
    "colab": {
     "base_uri": "https://localhost:8080/",
     "height": 33
    },
    "id": "1RvKPSaqK1l6",
    "outputId": "8c1887f8-e98f-4c43-b81a-72b6e8df95d5"
   },
   "outputs": [],
   "source": [
    "df = parse(data_new, df)"
   ]
  },
  {
   "cell_type": "code",
   "execution_count": null,
   "metadata": {
    "colab": {
     "base_uri": "https://localhost:8080/",
     "height": 33
    },
    "id": "HOVyItP4K2wX",
    "outputId": "577c12e5-c218-4ec2-c36b-cd38e17f6415"
   },
   "outputs": [],
   "source": [
    "df.shape"
   ]
  },
  {
   "cell_type": "code",
   "execution_count": null,
   "metadata": {
    "colab": {
     "base_uri": "https://localhost:8080/",
     "height": 53
    },
    "id": "vae-ng7hK5bu",
    "outputId": "2c189d6c-fef0-43f5-e983-6d827e0e725b"
   },
   "outputs": [],
   "source": [
    "import pickle\n",
    "with open('/content/add_2020-10-17 06_36_37.017213', 'rb') as f:\n",
    "     data_new = pickle.load(f)\n",
    "\n",
    "print(data_new[0])\n",
    "\n"
   ]
  },
  {
   "cell_type": "code",
   "execution_count": null,
   "metadata": {
    "colab": {
     "base_uri": "https://localhost:8080/",
     "height": 33
    },
    "id": "OAxeodlOLD_O",
    "outputId": "e4cabe26-6691-4a87-a361-f39463896e3d"
   },
   "outputs": [],
   "source": [
    "df = parse(data_new, df)"
   ]
  },
  {
   "cell_type": "code",
   "execution_count": null,
   "metadata": {
    "colab": {
     "base_uri": "https://localhost:8080/",
     "height": 33
    },
    "id": "mV18mJ69LFAJ",
    "outputId": "1d361f1c-7a45-4278-db7f-372d6b02e687"
   },
   "outputs": [],
   "source": [
    "df.shape"
   ]
  },
  {
   "cell_type": "code",
   "execution_count": null,
   "metadata": {
    "colab": {
     "base_uri": "https://localhost:8080/",
     "height": 53
    },
    "id": "YAItmZg0LFpp",
    "outputId": "ecb688f9-7c21-49e5-addb-96d8dc03b7cc"
   },
   "outputs": [],
   "source": [
    "import pickle\n",
    "with open('/content/add_2020-10-17 08_05_00.802889', 'rb') as f:\n",
    "     data_new = pickle.load(f)\n",
    "\n",
    "print(data_new[0])"
   ]
  },
  {
   "cell_type": "code",
   "execution_count": null,
   "metadata": {
    "colab": {
     "base_uri": "https://localhost:8080/",
     "height": 33
    },
    "id": "bm2Fh7lULRZ4",
    "outputId": "69816cd7-9a54-49aa-bd61-9fdd24157eae"
   },
   "outputs": [],
   "source": [
    "df = parse(data_new, df)"
   ]
  },
  {
   "cell_type": "code",
   "execution_count": null,
   "metadata": {
    "colab": {
     "base_uri": "https://localhost:8080/",
     "height": 33
    },
    "id": "3f9awnnFLhXv",
    "outputId": "9df15b00-bdb4-4a14-f525-b19a6da47e25"
   },
   "outputs": [],
   "source": [
    "df.shape"
   ]
  },
  {
   "cell_type": "code",
   "execution_count": null,
   "metadata": {
    "id": "S0j9RNZqMcop"
   },
   "outputs": [],
   "source": []
  },
  {
   "cell_type": "code",
   "execution_count": null,
   "metadata": {
    "colab": {
     "base_uri": "https://localhost:8080/",
     "height": 53
    },
    "id": "RpKXVjNhLj2F",
    "outputId": "69606fb2-1a93-4d09-d92a-d75a3adee99d"
   },
   "outputs": [],
   "source": [
    "import pickle\n",
    "with open('/content/add_2020-10-17 09_22_26.668521', 'rb') as f:\n",
    "     data_new = pickle.load(f)\n",
    "\n",
    "print(data_new[0])"
   ]
  },
  {
   "cell_type": "code",
   "execution_count": null,
   "metadata": {
    "colab": {
     "base_uri": "https://localhost:8080/",
     "height": 33
    },
    "id": "ayDvtr9GLj8a",
    "outputId": "7843267e-5534-4002-d11a-e15c82c02aac"
   },
   "outputs": [],
   "source": [
    "df = parse(data_new, df)"
   ]
  },
  {
   "cell_type": "code",
   "execution_count": null,
   "metadata": {
    "colab": {
     "base_uri": "https://localhost:8080/",
     "height": 33
    },
    "id": "oOUH-p5kLj6Z",
    "outputId": "127e14ae-64d7-4903-96fe-bcb2c574da00"
   },
   "outputs": [],
   "source": [
    "df.shape"
   ]
  },
  {
   "cell_type": "code",
   "execution_count": null,
   "metadata": {
    "colab": {
     "base_uri": "https://localhost:8080/",
     "height": 53
    },
    "id": "D2OS3dPiLy8d",
    "outputId": "cdcc098c-df65-46fe-a853-e639b8513490"
   },
   "outputs": [],
   "source": [
    "import pickle\n",
    "with open('/content/points.pkl', 'rb') as f:\n",
    "     data_new = pickle.load(f)\n",
    "\n",
    "print(data_new[0])"
   ]
  },
  {
   "cell_type": "code",
   "execution_count": null,
   "metadata": {
    "colab": {
     "base_uri": "https://localhost:8080/",
     "height": 33
    },
    "id": "4r2AMUxIMR30",
    "outputId": "4273aba4-c97f-477d-d3cb-7c7dffde4ffa"
   },
   "outputs": [],
   "source": [
    "df = parse_igor(data_new, df)"
   ]
  },
  {
   "cell_type": "code",
   "execution_count": null,
   "metadata": {
    "colab": {
     "base_uri": "https://localhost:8080/",
     "height": 33
    },
    "id": "P7roy8HKM2dq",
    "outputId": "21ecdfef-e994-485e-cdbf-a84224cf01fd"
   },
   "outputs": [],
   "source": [
    "df.shape"
   ]
  },
  {
   "cell_type": "code",
   "execution_count": null,
   "metadata": {
    "colab": {
     "base_uri": "https://localhost:8080/",
     "height": 53
    },
    "id": "HcApdsuPos8P",
    "outputId": "0c46ec6b-42a9-4395-b885-2016b82614c6"
   },
   "outputs": [],
   "source": [
    "import pickle\n",
    "with open('/content/add_2020-10-17 12_49_22.686112', 'rb') as f:\n",
    "     data_new = pickle.load(f)\n",
    "\n",
    "print(data_new[0])"
   ]
  },
  {
   "cell_type": "code",
   "execution_count": null,
   "metadata": {
    "colab": {
     "base_uri": "https://localhost:8080/",
     "height": 33
    },
    "id": "hbxZ70vdouT_",
    "outputId": "f46dbbf8-da5f-4bac-ef12-a9aa1686002e"
   },
   "outputs": [],
   "source": [
    "df = parse(data_new, df)"
   ]
  },
  {
   "cell_type": "code",
   "execution_count": null,
   "metadata": {
    "colab": {
     "base_uri": "https://localhost:8080/",
     "height": 33
    },
    "id": "P_JYMeVbovlA",
    "outputId": "62e26760-88c1-46f6-e29d-ff5eadb987e5"
   },
   "outputs": [],
   "source": [
    "df.shape"
   ]
  },
  {
   "cell_type": "code",
   "execution_count": null,
   "metadata": {
    "colab": {
     "base_uri": "https://localhost:8080/",
     "height": 212
    },
    "id": "rSiqsWgNN1Up",
    "outputId": "dbe50451-ae80-4a3e-ca7e-7cc074dbb792"
   },
   "outputs": [],
   "source": [
    "df['address'].value_counts()"
   ]
  },
  {
   "cell_type": "code",
   "execution_count": null,
   "metadata": {
    "colab": {
     "base_uri": "https://localhost:8080/",
     "height": 521
    },
    "id": "KDyWYohON_Mu",
    "outputId": "773b9732-3ec3-4393-c492-8bbdb3c517f2"
   },
   "outputs": [],
   "source": [
    "data_new[0]"
   ]
  },
  {
   "cell_type": "code",
   "execution_count": null,
   "metadata": {
    "id": "RagzX4ShPJB1"
   },
   "outputs": [],
   "source": [
    "df.drop_duplicates().to_csv('./coord.csv', index=False)"
   ]
  },
  {
   "cell_type": "code",
   "execution_count": null,
   "metadata": {
    "id": "wvOkyFkkPy20"
   },
   "outputs": [],
   "source": [
    "coord_df = pd.read_csv('./coord.csv')"
   ]
  },
  {
   "cell_type": "code",
   "execution_count": null,
   "metadata": {
    "colab": {
     "base_uri": "https://localhost:8080/",
     "height": 33
    },
    "id": "1gtcMd1xP_ZJ",
    "outputId": "5d4001d3-3eb3-4d86-8ea1-fb1980d6eeb0"
   },
   "outputs": [],
   "source": [
    "coord_df.shape"
   ]
  },
  {
   "cell_type": "code",
   "execution_count": null,
   "metadata": {
    "id": "8jI1LHEsQA1j"
   },
   "outputs": [],
   "source": [
    "data = pd.read_excel('распространение заболевания. generated.xlsx')"
   ]
  },
  {
   "cell_type": "code",
   "execution_count": null,
   "metadata": {
    "colab": {
     "base_uri": "https://localhost:8080/",
     "height": 191
    },
    "id": "2QLy8jFUQUe7",
    "outputId": "fec0d368-64d2-4c25-bed5-c70dce2bb5e1"
   },
   "outputs": [],
   "source": [
    "data.head()"
   ]
  },
  {
   "cell_type": "code",
   "execution_count": null,
   "metadata": {
    "id": "KgWhfYn5QElV"
   },
   "outputs": [],
   "source": [
    "final = data.merge(coord_df, how='left', left_on='address', right_on='address')"
   ]
  },
  {
   "cell_type": "code",
   "execution_count": null,
   "metadata": {
    "colab": {
     "base_uri": "https://localhost:8080/",
     "height": 33
    },
    "id": "5iuJSEqnrcsM",
    "outputId": "01ec2979-7cf2-4f2a-fb7e-3d2006aa775e"
   },
   "outputs": [],
   "source": [
    "final.shape"
   ]
  },
  {
   "cell_type": "code",
   "execution_count": null,
   "metadata": {
    "colab": {
     "base_uri": "https://localhost:8080/",
     "height": 1000
    },
    "id": "Cz7h5UEyQmZK",
    "outputId": "04d48e17-540d-4358-da8f-a94227d31ee3"
   },
   "outputs": [],
   "source": [
    "final[5000:5050]"
   ]
  },
  {
   "cell_type": "code",
   "execution_count": null,
   "metadata": {
    "colab": {
     "base_uri": "https://localhost:8080/",
     "height": 33
    },
    "id": "0zsUKBOzQnVI",
    "outputId": "8bcb7050-541e-49c0-d0dd-451c0302910f"
   },
   "outputs": [],
   "source": [
    "final.shape"
   ]
  },
  {
   "cell_type": "code",
   "execution_count": null,
   "metadata": {
    "colab": {
     "base_uri": "https://localhost:8080/",
     "height": 212
    },
    "id": "gNi87NksrjFe",
    "outputId": "7184dfdb-1b80-4902-a9be-862e330f791c"
   },
   "outputs": [],
   "source": [
    "final['Point'].isnull()"
   ]
  },
  {
   "cell_type": "code",
   "execution_count": null,
   "metadata": {
    "id": "KlvsVCuvQpcW"
   },
   "outputs": [],
   "source": [
    "dataframe = final[final['Point'].isnull()].drop_duplicates(subset=['address'])"
   ]
  },
  {
   "cell_type": "code",
   "execution_count": null,
   "metadata": {
    "colab": {
     "base_uri": "https://localhost:8080/",
     "height": 33
    },
    "id": "MJBWcEYZXBpe",
    "outputId": "5756edf1-5947-4cc9-b77d-b16d0555c1a8"
   },
   "outputs": [],
   "source": [
    "dataframe.shape"
   ]
  },
  {
   "cell_type": "code",
   "execution_count": null,
   "metadata": {
    "colab": {
     "base_uri": "https://localhost:8080/",
     "height": 391
    },
    "id": "iJv2QFV_rsW5",
    "outputId": "669e1255-5ba5-4103-fdbc-e348c4cd24f3"
   },
   "outputs": [],
   "source": [
    "dataframe"
   ]
  },
  {
   "cell_type": "code",
   "execution_count": null,
   "metadata": {
    "id": "8lUGoPImQsin"
   },
   "outputs": [],
   "source": [
    "final.to_csv('final_df.csv', index=False)"
   ]
  },
  {
   "cell_type": "code",
   "execution_count": null,
   "metadata": {
    "colab": {
     "base_uri": "https://localhost:8080/",
     "height": 191
    },
    "id": "DH9B7U01Q6Rj",
    "outputId": "2027c03e-e157-4b68-de3c-d2b6f34615ab"
   },
   "outputs": [],
   "source": [
    "data.head()"
   ]
  },
  {
   "cell_type": "code",
   "execution_count": null,
   "metadata": {
    "id": "i-O5gDyoRYNz"
   },
   "outputs": [],
   "source": []
  }
 ],
 "metadata": {
  "accelerator": "GPU",
  "colab": {
   "collapsed_sections": [],
   "name": "address_parse.ipynb",
   "provenance": []
  },
  "kernelspec": {
   "display_name": "Python 3",
   "language": "python",
   "name": "python3"
  },
  "language_info": {
   "codemirror_mode": {
    "name": "ipython",
    "version": 3
   },
   "file_extension": ".py",
   "mimetype": "text/x-python",
   "name": "python",
   "nbconvert_exporter": "python",
   "pygments_lexer": "ipython3",
   "version": "3.7.6"
  }
 },
 "nbformat": 4,
 "nbformat_minor": 1
}
